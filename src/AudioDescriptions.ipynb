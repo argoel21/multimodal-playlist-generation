{
 "cells": [
  {
   "cell_type": "markdown",
   "id": "26fa868d-1c6f-4caa-8685-81c1027c0e4c",
   "metadata": {},
   "source": [
    "# Audio Embedding and Tagging"
   ]
  },
  {
   "cell_type": "markdown",
   "id": "3fc13014-a9e0-4813-ac6c-f97f736ace7c",
   "metadata": {},
   "source": [
    "## Import Packages"
   ]
  },
  {
   "cell_type": "code",
   "execution_count": null,
   "id": "2762ea54-7bd7-407d-8bfc-1e90c79d5af3",
   "metadata": {},
   "outputs": [],
   "source": [
    "import os\n",
    "import torch\n",
    "import openl3\n",
    "import librosa\n",
    "import numpy as np\n",
    "from musicnn.tagger import top_tags\n",
    "from multiprocessing import Pool"
   ]
  },
  {
   "cell_type": "markdown",
   "id": "550f06b8-4807-4f52-a0c0-31169d131e4b",
   "metadata": {},
   "source": [
    "## Get Embeddings and Tags"
   ]
  },
  {
   "cell_type": "markdown",
   "id": "4b61f7eb-0498-44f8-9c6b-d2524bc184d3",
   "metadata": {},
   "source": [
    "Running our audio files through the OpenL3 model to extract vector embeddings that describe the music's mood and characteristics, and using Musicnn to generate top descriptive tags."
   ]
  },
  {
   "cell_type": "code",
   "execution_count": null,
   "id": "6d6d08e6-fd85-4cef-b785-9028025bf3b4",
   "metadata": {},
   "outputs": [],
   "source": [
    "# === Settings ===\n",
    "AUDIO_DIR = \"downloads\"\n",
    "SAMPLE_RATE = 48000\n",
    "DURATION = 30\n",
    "EMBED_SIZE = 512\n",
    "\n",
    "# === Get files ===\n",
    "audio_files = [os.path.join(AUDIO_DIR, f) for f in os.listdir(AUDIO_DIR) if f.endswith(\".mp3\")]\n",
    "\n",
    "# === GPU assignment ===\n",
    "def assign_gpu(index):\n",
    "    return 0 if index % 2 == 0 else 1\n",
    "\n",
    "# === Processing logic ===\n",
    "def process_audio(args):\n",
    "    path, gpu_id = args\n",
    "    torch.cuda.set_device(gpu_id)\n",
    "    fname = os.path.basename(path)\n",
    "\n",
    "    try:\n",
    "        # Load 30s middle snippet\n",
    "        y, sr = librosa.load(path, sr=SAMPLE_RATE)\n",
    "        dur = librosa.get_duration(y=y, sr=sr)\n",
    "        start = max(0, (dur - DURATION) / 2)\n",
    "        y = y[int(start * sr):int((start + DURATION) * sr)]\n",
    "\n",
    "        # OpenL3 embedding\n",
    "        emb, _ = openl3.get_audio_embedding(\n",
    "            y, sr,\n",
    "            input_repr=\"music\",\n",
    "            content_type=\"music\",\n",
    "            embedding_size=EMBED_SIZE,\n",
    "            frontend=\"librosa\"\n",
    "        )\n",
    "        emb_mean = emb.mean(axis=0)\n",
    "\n",
    "        # musicnn tags\n",
    "        tags = top_tags(path, model='MSD_musicnn', input_length=DURATION)\n",
    "        tags = [(tag, float(score)) for tag, score in tags]\n",
    "\n",
    "        return {\n",
    "            \"file\": fname,\n",
    "            \"embedding\": emb_mean.tolist(),\n",
    "            \"tags\": tags\n",
    "        }\n",
    "    except Exception as e:\n",
    "        return {\n",
    "            \"file\": fname,\n",
    "            \"error\": str(e)\n",
    "        }\n",
    "\n",
    "# === Run parallel across 2 GPUs ===\n",
    "file_gpu_pairs = [(f, assign_gpu(i)) for i, f in enumerate(audio_files)]\n",
    "\n",
    "with Pool(processes=2) as pool:\n",
    "    results = pool.map(process_audio, file_gpu_pairs)\n",
    "\n",
    "# === Optional: Save or view\n",
    "import json\n",
    "with open(\"audio_features.json\", \"w\") as f:\n",
    "    json.dump(results, f, indent=2)"
   ]
  }
 ],
 "metadata": {
  "kernelspec": {
   "display_name": "Python 3 (ipykernel)",
   "language": "python",
   "name": "python3"
  },
  "language_info": {
   "codemirror_mode": {
    "name": "ipython",
    "version": 3
   },
   "file_extension": ".py",
   "mimetype": "text/x-python",
   "name": "python",
   "nbconvert_exporter": "python",
   "pygments_lexer": "ipython3",
   "version": "3.11.4"
  }
 },
 "nbformat": 4,
 "nbformat_minor": 5
}
